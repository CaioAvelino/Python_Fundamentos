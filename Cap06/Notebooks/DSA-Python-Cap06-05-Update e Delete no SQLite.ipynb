{
 "cells": [
  {
   "cell_type": "markdown",
   "metadata": {},
   "source": [
    "# <font color='blue'>Data Science Academy - Python Fundamentos - Capítulo 6</font>\n",
    "\n",
    "## Download: http://github.com/dsacademybr"
   ]
  },
  {
   "cell_type": "markdown",
   "metadata": {},
   "source": [
    "### Update e Delete"
   ]
  },
  {
   "cell_type": "code",
   "execution_count": 1,
   "metadata": {},
   "outputs": [],
   "source": [
    "import sqlite3\n",
    "import random\n",
    "import time\n",
    "import datetime\n",
    " \n",
    "# Criando uma conexão\n",
    "conn = sqlite3.connect('dsa.db')   \n",
    "\n",
    "# Criando um cursor\n",
    "c = conn.cursor()\n",
    " \n",
    "# Função para criar uma tabela\n",
    "def create_table():\n",
    "    c.execute('CREATE TABLE IF NOT EXISTS produtos(id INTEGER PRIMARY KEY AUTOINCREMENT NOT NULL, date TEXT, '\\\n",
    "              'prod_name TEXT, valor REAL)')\n",
    "      \n",
    "# Função para inserir uma linha\n",
    "def data_insert():\n",
    "    c.execute(\"INSERT INTO produtos VALUES(002, '02-05-2016', 'teclado', 130 )\")\n",
    "    conn.commit()\n",
    "    c.close()\n",
    "    conn.close()\n",
    "    \n",
    "# Usando variáveis para inserir dados    \n",
    "def data_insert_var():\n",
    "    new_date = datetime.datetime.now()\n",
    "    new_prod_name = 'monitor'\n",
    "    new_valor = random.randrange(50,100)\n",
    "    c.execute(\"INSERT INTO produtos (date, prod_name, valor) VALUES (?, ?, ?, ?)\", \n",
    "              (new_date, new_prod_name, new_valor))\n",
    "    conn.commit()\n",
    "    \n",
    "# Leitura de dados\n",
    "def leitura_todos_dados():\n",
    "    c.execute(\"SELECT * FROM PRODUTOS\")\n",
    "    for linha in c.fetchall():\n",
    "        print(linha)\n",
    "        \n",
    "# Leitura de registros específicos\n",
    "def leitura_registros():\n",
    "    c.execute(\"SELECT * FROM PRODUTOS WHERE valor > 70.0\")\n",
    "    for linha in c.fetchall():\n",
    "        print(linha)      \n",
    "        \n",
    "# Leitura de colunas específicos\n",
    "def leitura_colunas():\n",
    "    c.execute(\"SELECT * FROM PRODUTOS\")\n",
    "    for linha in c.fetchall():\n",
    "        print(linha[3])  \n",
    "        \n",
    "# Update\n",
    "def atualiza_dados():\n",
    "    c.execute(\"UPDATE produtos SET valor = 70.00 WHERE valor = 98.0\")\n",
    "    conn.commit()\n",
    "    \n",
    "# Delete\n",
    "def remove_dados():\n",
    "    c.execute(\"DELETE FROM produtos WHERE valor = 62.0\")\n",
    "    conn.commit()"
   ]
  },
  {
   "cell_type": "code",
   "execution_count": 2,
   "metadata": {},
   "outputs": [],
   "source": [
    "atualiza_dados()"
   ]
  },
  {
   "cell_type": "code",
   "execution_count": 3,
   "metadata": {},
   "outputs": [
    {
     "name": "stdout",
     "output_type": "stream",
     "text": [
      "(10, '2018-05-02 14:32:11', 'Teclado', 90.0)\n",
      "(11, '2018-07-27 16:04:19.175860', 'Monitor', 84.0)\n",
      "(12, '2018-07-27 16:04:20.312281', 'Monitor', 71.0)\n",
      "(13, '2018-07-27 16:04:21.421394', 'Monitor', 70.0)\n",
      "(14, '2018-07-27 16:04:22.564915', 'Monitor', 95.0)\n",
      "(15, '2018-07-27 16:04:23.718051', 'Monitor', 88.0)\n",
      "(16, '2018-07-27 16:04:24.838961', 'Monitor', 94.0)\n",
      "(17, '2018-07-27 16:04:25.958604', 'Monitor', 74.0)\n",
      "(18, '2018-07-27 16:04:27.068372', 'Monitor', 58.0)\n",
      "(19, '2018-07-27 16:04:28.155330', 'Monitor', 51.0)\n",
      "(20, '2018-07-27 16:04:29.299380', 'Monitor', 99.0)\n",
      "(21, '2018-07-27 16:04:51.397736', 'Monitor', 62.0)\n",
      "(22, '2018-07-27 16:04:52.641937', 'Monitor', 61.0)\n",
      "(23, '2018-07-27 16:04:53.749904', 'Monitor', 70.0)\n",
      "(24, '2018-07-27 16:04:54.870321', 'Monitor', 85.0)\n",
      "(25, '2018-07-27 16:04:56.046411', 'Monitor', 55.0)\n",
      "(26, '2018-07-27 16:04:57.145222', 'Monitor', 97.0)\n",
      "(27, '2018-07-27 16:04:58.254790', 'Monitor', 68.0)\n",
      "(28, '2018-07-27 16:04:59.374219', 'Monitor', 62.0)\n",
      "(29, '2018-07-27 16:05:00.462249', 'Monitor', 58.0)\n",
      "(30, '2018-07-27 16:05:01.838523', 'Monitor', 56.0)\n"
     ]
    }
   ],
   "source": [
    "leitura_todos_dados()"
   ]
  },
  {
   "cell_type": "code",
   "execution_count": 4,
   "metadata": {},
   "outputs": [],
   "source": [
    "remove_dados()"
   ]
  },
  {
   "cell_type": "code",
   "execution_count": 5,
   "metadata": {},
   "outputs": [
    {
     "name": "stdout",
     "output_type": "stream",
     "text": [
      "(10, '2018-05-02 14:32:11', 'Teclado', 90.0)\n",
      "(11, '2018-07-27 16:04:19.175860', 'Monitor', 84.0)\n",
      "(12, '2018-07-27 16:04:20.312281', 'Monitor', 71.0)\n",
      "(13, '2018-07-27 16:04:21.421394', 'Monitor', 70.0)\n",
      "(14, '2018-07-27 16:04:22.564915', 'Monitor', 95.0)\n",
      "(15, '2018-07-27 16:04:23.718051', 'Monitor', 88.0)\n",
      "(16, '2018-07-27 16:04:24.838961', 'Monitor', 94.0)\n",
      "(17, '2018-07-27 16:04:25.958604', 'Monitor', 74.0)\n",
      "(18, '2018-07-27 16:04:27.068372', 'Monitor', 58.0)\n",
      "(19, '2018-07-27 16:04:28.155330', 'Monitor', 51.0)\n",
      "(20, '2018-07-27 16:04:29.299380', 'Monitor', 99.0)\n",
      "(22, '2018-07-27 16:04:52.641937', 'Monitor', 61.0)\n",
      "(23, '2018-07-27 16:04:53.749904', 'Monitor', 70.0)\n",
      "(24, '2018-07-27 16:04:54.870321', 'Monitor', 85.0)\n",
      "(25, '2018-07-27 16:04:56.046411', 'Monitor', 55.0)\n",
      "(26, '2018-07-27 16:04:57.145222', 'Monitor', 97.0)\n",
      "(27, '2018-07-27 16:04:58.254790', 'Monitor', 68.0)\n",
      "(29, '2018-07-27 16:05:00.462249', 'Monitor', 58.0)\n",
      "(30, '2018-07-27 16:05:01.838523', 'Monitor', 56.0)\n"
     ]
    }
   ],
   "source": [
    "leitura_todos_dados()"
   ]
  },
  {
   "cell_type": "markdown",
   "metadata": {},
   "source": [
    "# Fim"
   ]
  },
  {
   "cell_type": "markdown",
   "metadata": {},
   "source": [
    "### Obrigado - Data Science Academy - <a href=http://facebook.com/dsacademy>facebook.com/dsacademybr</a>"
   ]
  }
 ],
 "metadata": {
  "kernelspec": {
   "display_name": "Python 3",
   "language": "python",
   "name": "python3"
  },
  "language_info": {
   "codemirror_mode": {
    "name": "ipython",
    "version": 3
   },
   "file_extension": ".py",
   "mimetype": "text/x-python",
   "name": "python",
   "nbconvert_exporter": "python",
   "pygments_lexer": "ipython3",
   "version": "3.6.5"
  }
 },
 "nbformat": 4,
 "nbformat_minor": 1
}
